{
  "nbformat": 4,
  "nbformat_minor": 0,
  "metadata": {
    "colab": {
      "name": "Medical Cost Personal Regression.ipynb",
      "provenance": [],
      "authorship_tag": "ABX9TyPij0h4aHHSf45wGcP2mylN",
      "include_colab_link": true
    },
    "kernelspec": {
      "name": "python3",
      "display_name": "Python 3"
    },
    "language_info": {
      "name": "python"
    },
    "accelerator": "GPU"
  },
  "cells": [
    {
      "cell_type": "markdown",
      "metadata": {
        "id": "view-in-github",
        "colab_type": "text"
      },
      "source": [
        "<a href=\"https://colab.research.google.com/github/blanpa/Tensorflow-Developer-Certificate-Stuff/blob/main/Medical_Cost_Personal_Regression.ipynb\" target=\"_parent\"><img src=\"https://colab.research.google.com/assets/colab-badge.svg\" alt=\"Open In Colab\"/></a>"
      ]
    },
    {
      "cell_type": "markdown",
      "metadata": {
        "id": "TDu-qqYV7t2Q"
      },
      "source": [
        "Content Columns\n",
        "\n",
        "age: age of primary beneficiary\n",
        "\n",
        "sex: insurance contractor gender, female, male\n",
        "\n",
        "bmi: Body mass index, providing an understanding of body, weights that are relatively high or low relative to height,\n",
        "objective index of body weight (kg / m ^ 2) using the ratio of height to weight, ideally 18.5 to 24.9\n",
        "\n",
        "children: Number of children covered by health insurance / Number of dependents\n",
        "\n",
        "smoker: Smoking\n",
        "\n",
        "region: the beneficiary's residential area in the US, northeast, southeast, southwest, northwest.\n",
        "\n",
        "charges: Individual medical costs billed by health insurance"
      ]
    },
    {
      "cell_type": "code",
      "metadata": {
        "colab": {
          "base_uri": "https://localhost:8080/"
        },
        "id": "VjldKrQT96tK",
        "outputId": "73530a02-f89b-4ec8-f6a2-0cf373d26811"
      },
      "source": [
        "!nvidia-smi"
      ],
      "execution_count": 1,
      "outputs": [
        {
          "output_type": "stream",
          "text": [
            "Mon May  3 16:36:12 2021       \n",
            "+-----------------------------------------------------------------------------+\n",
            "| NVIDIA-SMI 465.19.01    Driver Version: 460.32.03    CUDA Version: 11.2     |\n",
            "|-------------------------------+----------------------+----------------------+\n",
            "| GPU  Name        Persistence-M| Bus-Id        Disp.A | Volatile Uncorr. ECC |\n",
            "| Fan  Temp  Perf  Pwr:Usage/Cap|         Memory-Usage | GPU-Util  Compute M. |\n",
            "|                               |                      |               MIG M. |\n",
            "|===============================+======================+======================|\n",
            "|   0  Tesla P100-PCIE...  Off  | 00000000:00:04.0 Off |                    0 |\n",
            "| N/A   33C    P0    26W / 250W |      0MiB / 16280MiB |      0%      Default |\n",
            "|                               |                      |                  N/A |\n",
            "+-------------------------------+----------------------+----------------------+\n",
            "                                                                               \n",
            "+-----------------------------------------------------------------------------+\n",
            "| Processes:                                                                  |\n",
            "|  GPU   GI   CI        PID   Type   Process name                  GPU Memory |\n",
            "|        ID   ID                                                   Usage      |\n",
            "|=============================================================================|\n",
            "|  No running processes found                                                 |\n",
            "+-----------------------------------------------------------------------------+\n"
          ],
          "name": "stdout"
        }
      ]
    },
    {
      "cell_type": "code",
      "metadata": {
        "id": "S4wGf1CiDkf4"
      },
      "source": [
        "# Load the TensorBoard notebook extension\n",
        "%load_ext tensorboard\n",
        "import datetime, os"
      ],
      "execution_count": 2,
      "outputs": []
    },
    {
      "cell_type": "code",
      "metadata": {
        "id": "XhNbCgoe7Sjb"
      },
      "source": [
        "# Import required libaries\n",
        "import tensorflow as tf\n",
        "import pandas as pd\n",
        "import numpy as np\n",
        "import matplotlib.pyplot as plt"
      ],
      "execution_count": 3,
      "outputs": []
    },
    {
      "cell_type": "code",
      "metadata": {
        "id": "tx5yGk3U8Wcu"
      },
      "source": [
        "# Read the dataset\n",
        "insurance = pd.read_csv(filepath_or_buffer = \"https://raw.githubusercontent.com/stedy/Machine-Learning-with-R-datasets/master/insurance.csv\")"
      ],
      "execution_count": 4,
      "outputs": []
    },
    {
      "cell_type": "code",
      "metadata": {
        "colab": {
          "base_uri": "https://localhost:8080/",
          "height": 194
        },
        "id": "hRUIUU4p-lUA",
        "outputId": "0d7f22b1-8876-45c2-b77f-b474eee20dcb"
      },
      "source": [
        "insurance.head()"
      ],
      "execution_count": 5,
      "outputs": [
        {
          "output_type": "execute_result",
          "data": {
            "text/html": [
              "<div>\n",
              "<style scoped>\n",
              "    .dataframe tbody tr th:only-of-type {\n",
              "        vertical-align: middle;\n",
              "    }\n",
              "\n",
              "    .dataframe tbody tr th {\n",
              "        vertical-align: top;\n",
              "    }\n",
              "\n",
              "    .dataframe thead th {\n",
              "        text-align: right;\n",
              "    }\n",
              "</style>\n",
              "<table border=\"1\" class=\"dataframe\">\n",
              "  <thead>\n",
              "    <tr style=\"text-align: right;\">\n",
              "      <th></th>\n",
              "      <th>age</th>\n",
              "      <th>sex</th>\n",
              "      <th>bmi</th>\n",
              "      <th>children</th>\n",
              "      <th>smoker</th>\n",
              "      <th>region</th>\n",
              "      <th>charges</th>\n",
              "    </tr>\n",
              "  </thead>\n",
              "  <tbody>\n",
              "    <tr>\n",
              "      <th>0</th>\n",
              "      <td>19</td>\n",
              "      <td>female</td>\n",
              "      <td>27.900</td>\n",
              "      <td>0</td>\n",
              "      <td>yes</td>\n",
              "      <td>southwest</td>\n",
              "      <td>16884.92400</td>\n",
              "    </tr>\n",
              "    <tr>\n",
              "      <th>1</th>\n",
              "      <td>18</td>\n",
              "      <td>male</td>\n",
              "      <td>33.770</td>\n",
              "      <td>1</td>\n",
              "      <td>no</td>\n",
              "      <td>southeast</td>\n",
              "      <td>1725.55230</td>\n",
              "    </tr>\n",
              "    <tr>\n",
              "      <th>2</th>\n",
              "      <td>28</td>\n",
              "      <td>male</td>\n",
              "      <td>33.000</td>\n",
              "      <td>3</td>\n",
              "      <td>no</td>\n",
              "      <td>southeast</td>\n",
              "      <td>4449.46200</td>\n",
              "    </tr>\n",
              "    <tr>\n",
              "      <th>3</th>\n",
              "      <td>33</td>\n",
              "      <td>male</td>\n",
              "      <td>22.705</td>\n",
              "      <td>0</td>\n",
              "      <td>no</td>\n",
              "      <td>northwest</td>\n",
              "      <td>21984.47061</td>\n",
              "    </tr>\n",
              "    <tr>\n",
              "      <th>4</th>\n",
              "      <td>32</td>\n",
              "      <td>male</td>\n",
              "      <td>28.880</td>\n",
              "      <td>0</td>\n",
              "      <td>no</td>\n",
              "      <td>northwest</td>\n",
              "      <td>3866.85520</td>\n",
              "    </tr>\n",
              "  </tbody>\n",
              "</table>\n",
              "</div>"
            ],
            "text/plain": [
              "   age     sex     bmi  children smoker     region      charges\n",
              "0   19  female  27.900         0    yes  southwest  16884.92400\n",
              "1   18    male  33.770         1     no  southeast   1725.55230\n",
              "2   28    male  33.000         3     no  southeast   4449.46200\n",
              "3   33    male  22.705         0     no  northwest  21984.47061\n",
              "4   32    male  28.880         0     no  northwest   3866.85520"
            ]
          },
          "metadata": {
            "tags": []
          },
          "execution_count": 5
        }
      ]
    },
    {
      "cell_type": "code",
      "metadata": {
        "colab": {
          "base_uri": "https://localhost:8080/"
        },
        "id": "WEuIQHoaHQUz",
        "outputId": "fc504134-592c-4606-ed84-52f501fbc310"
      },
      "source": [
        "insurance.info()"
      ],
      "execution_count": 24,
      "outputs": [
        {
          "output_type": "stream",
          "text": [
            "<class 'pandas.core.frame.DataFrame'>\n",
            "RangeIndex: 1338 entries, 0 to 1337\n",
            "Data columns (total 7 columns):\n",
            " #   Column    Non-Null Count  Dtype  \n",
            "---  ------    --------------  -----  \n",
            " 0   age       1338 non-null   int64  \n",
            " 1   sex       1338 non-null   object \n",
            " 2   bmi       1338 non-null   float64\n",
            " 3   children  1338 non-null   int64  \n",
            " 4   smoker    1338 non-null   object \n",
            " 5   region    1338 non-null   object \n",
            " 6   charges   1338 non-null   float64\n",
            "dtypes: float64(2), int64(2), object(3)\n",
            "memory usage: 73.3+ KB\n"
          ],
          "name": "stdout"
        }
      ]
    },
    {
      "cell_type": "code",
      "metadata": {
        "colab": {
          "base_uri": "https://localhost:8080/",
          "height": 282
        },
        "id": "bZaTgezQHTs8",
        "outputId": "851f6da0-1d87-420a-9b1a-3fefc819b530"
      },
      "source": [
        "insurance.describe()"
      ],
      "execution_count": 26,
      "outputs": [
        {
          "output_type": "execute_result",
          "data": {
            "text/html": [
              "<div>\n",
              "<style scoped>\n",
              "    .dataframe tbody tr th:only-of-type {\n",
              "        vertical-align: middle;\n",
              "    }\n",
              "\n",
              "    .dataframe tbody tr th {\n",
              "        vertical-align: top;\n",
              "    }\n",
              "\n",
              "    .dataframe thead th {\n",
              "        text-align: right;\n",
              "    }\n",
              "</style>\n",
              "<table border=\"1\" class=\"dataframe\">\n",
              "  <thead>\n",
              "    <tr style=\"text-align: right;\">\n",
              "      <th></th>\n",
              "      <th>age</th>\n",
              "      <th>bmi</th>\n",
              "      <th>children</th>\n",
              "      <th>charges</th>\n",
              "    </tr>\n",
              "  </thead>\n",
              "  <tbody>\n",
              "    <tr>\n",
              "      <th>count</th>\n",
              "      <td>1338.000000</td>\n",
              "      <td>1338.000000</td>\n",
              "      <td>1338.000000</td>\n",
              "      <td>1338.000000</td>\n",
              "    </tr>\n",
              "    <tr>\n",
              "      <th>mean</th>\n",
              "      <td>39.207025</td>\n",
              "      <td>30.663397</td>\n",
              "      <td>1.094918</td>\n",
              "      <td>13270.422265</td>\n",
              "    </tr>\n",
              "    <tr>\n",
              "      <th>std</th>\n",
              "      <td>14.049960</td>\n",
              "      <td>6.098187</td>\n",
              "      <td>1.205493</td>\n",
              "      <td>12110.011237</td>\n",
              "    </tr>\n",
              "    <tr>\n",
              "      <th>min</th>\n",
              "      <td>18.000000</td>\n",
              "      <td>15.960000</td>\n",
              "      <td>0.000000</td>\n",
              "      <td>1121.873900</td>\n",
              "    </tr>\n",
              "    <tr>\n",
              "      <th>25%</th>\n",
              "      <td>27.000000</td>\n",
              "      <td>26.296250</td>\n",
              "      <td>0.000000</td>\n",
              "      <td>4740.287150</td>\n",
              "    </tr>\n",
              "    <tr>\n",
              "      <th>50%</th>\n",
              "      <td>39.000000</td>\n",
              "      <td>30.400000</td>\n",
              "      <td>1.000000</td>\n",
              "      <td>9382.033000</td>\n",
              "    </tr>\n",
              "    <tr>\n",
              "      <th>75%</th>\n",
              "      <td>51.000000</td>\n",
              "      <td>34.693750</td>\n",
              "      <td>2.000000</td>\n",
              "      <td>16639.912515</td>\n",
              "    </tr>\n",
              "    <tr>\n",
              "      <th>max</th>\n",
              "      <td>64.000000</td>\n",
              "      <td>53.130000</td>\n",
              "      <td>5.000000</td>\n",
              "      <td>63770.428010</td>\n",
              "    </tr>\n",
              "  </tbody>\n",
              "</table>\n",
              "</div>"
            ],
            "text/plain": [
              "               age          bmi     children       charges\n",
              "count  1338.000000  1338.000000  1338.000000   1338.000000\n",
              "mean     39.207025    30.663397     1.094918  13270.422265\n",
              "std      14.049960     6.098187     1.205493  12110.011237\n",
              "min      18.000000    15.960000     0.000000   1121.873900\n",
              "25%      27.000000    26.296250     0.000000   4740.287150\n",
              "50%      39.000000    30.400000     1.000000   9382.033000\n",
              "75%      51.000000    34.693750     2.000000  16639.912515\n",
              "max      64.000000    53.130000     5.000000  63770.428010"
            ]
          },
          "metadata": {
            "tags": []
          },
          "execution_count": 26
        }
      ]
    },
    {
      "cell_type": "code",
      "metadata": {
        "colab": {
          "base_uri": "https://localhost:8080/",
          "height": 419
        },
        "id": "QF5tOzWR8gEE",
        "outputId": "cde7697a-7e5a-4080-b484-83525cae33f0"
      },
      "source": [
        "# One Hot Encoding\n",
        "insurance_one_hot = pd.get_dummies(data = insurance)\n",
        "insurance_one_hot"
      ],
      "execution_count": 6,
      "outputs": [
        {
          "output_type": "execute_result",
          "data": {
            "text/html": [
              "<div>\n",
              "<style scoped>\n",
              "    .dataframe tbody tr th:only-of-type {\n",
              "        vertical-align: middle;\n",
              "    }\n",
              "\n",
              "    .dataframe tbody tr th {\n",
              "        vertical-align: top;\n",
              "    }\n",
              "\n",
              "    .dataframe thead th {\n",
              "        text-align: right;\n",
              "    }\n",
              "</style>\n",
              "<table border=\"1\" class=\"dataframe\">\n",
              "  <thead>\n",
              "    <tr style=\"text-align: right;\">\n",
              "      <th></th>\n",
              "      <th>age</th>\n",
              "      <th>bmi</th>\n",
              "      <th>children</th>\n",
              "      <th>charges</th>\n",
              "      <th>sex_female</th>\n",
              "      <th>sex_male</th>\n",
              "      <th>smoker_no</th>\n",
              "      <th>smoker_yes</th>\n",
              "      <th>region_northeast</th>\n",
              "      <th>region_northwest</th>\n",
              "      <th>region_southeast</th>\n",
              "      <th>region_southwest</th>\n",
              "    </tr>\n",
              "  </thead>\n",
              "  <tbody>\n",
              "    <tr>\n",
              "      <th>0</th>\n",
              "      <td>19</td>\n",
              "      <td>27.900</td>\n",
              "      <td>0</td>\n",
              "      <td>16884.92400</td>\n",
              "      <td>1</td>\n",
              "      <td>0</td>\n",
              "      <td>0</td>\n",
              "      <td>1</td>\n",
              "      <td>0</td>\n",
              "      <td>0</td>\n",
              "      <td>0</td>\n",
              "      <td>1</td>\n",
              "    </tr>\n",
              "    <tr>\n",
              "      <th>1</th>\n",
              "      <td>18</td>\n",
              "      <td>33.770</td>\n",
              "      <td>1</td>\n",
              "      <td>1725.55230</td>\n",
              "      <td>0</td>\n",
              "      <td>1</td>\n",
              "      <td>1</td>\n",
              "      <td>0</td>\n",
              "      <td>0</td>\n",
              "      <td>0</td>\n",
              "      <td>1</td>\n",
              "      <td>0</td>\n",
              "    </tr>\n",
              "    <tr>\n",
              "      <th>2</th>\n",
              "      <td>28</td>\n",
              "      <td>33.000</td>\n",
              "      <td>3</td>\n",
              "      <td>4449.46200</td>\n",
              "      <td>0</td>\n",
              "      <td>1</td>\n",
              "      <td>1</td>\n",
              "      <td>0</td>\n",
              "      <td>0</td>\n",
              "      <td>0</td>\n",
              "      <td>1</td>\n",
              "      <td>0</td>\n",
              "    </tr>\n",
              "    <tr>\n",
              "      <th>3</th>\n",
              "      <td>33</td>\n",
              "      <td>22.705</td>\n",
              "      <td>0</td>\n",
              "      <td>21984.47061</td>\n",
              "      <td>0</td>\n",
              "      <td>1</td>\n",
              "      <td>1</td>\n",
              "      <td>0</td>\n",
              "      <td>0</td>\n",
              "      <td>1</td>\n",
              "      <td>0</td>\n",
              "      <td>0</td>\n",
              "    </tr>\n",
              "    <tr>\n",
              "      <th>4</th>\n",
              "      <td>32</td>\n",
              "      <td>28.880</td>\n",
              "      <td>0</td>\n",
              "      <td>3866.85520</td>\n",
              "      <td>0</td>\n",
              "      <td>1</td>\n",
              "      <td>1</td>\n",
              "      <td>0</td>\n",
              "      <td>0</td>\n",
              "      <td>1</td>\n",
              "      <td>0</td>\n",
              "      <td>0</td>\n",
              "    </tr>\n",
              "    <tr>\n",
              "      <th>...</th>\n",
              "      <td>...</td>\n",
              "      <td>...</td>\n",
              "      <td>...</td>\n",
              "      <td>...</td>\n",
              "      <td>...</td>\n",
              "      <td>...</td>\n",
              "      <td>...</td>\n",
              "      <td>...</td>\n",
              "      <td>...</td>\n",
              "      <td>...</td>\n",
              "      <td>...</td>\n",
              "      <td>...</td>\n",
              "    </tr>\n",
              "    <tr>\n",
              "      <th>1333</th>\n",
              "      <td>50</td>\n",
              "      <td>30.970</td>\n",
              "      <td>3</td>\n",
              "      <td>10600.54830</td>\n",
              "      <td>0</td>\n",
              "      <td>1</td>\n",
              "      <td>1</td>\n",
              "      <td>0</td>\n",
              "      <td>0</td>\n",
              "      <td>1</td>\n",
              "      <td>0</td>\n",
              "      <td>0</td>\n",
              "    </tr>\n",
              "    <tr>\n",
              "      <th>1334</th>\n",
              "      <td>18</td>\n",
              "      <td>31.920</td>\n",
              "      <td>0</td>\n",
              "      <td>2205.98080</td>\n",
              "      <td>1</td>\n",
              "      <td>0</td>\n",
              "      <td>1</td>\n",
              "      <td>0</td>\n",
              "      <td>1</td>\n",
              "      <td>0</td>\n",
              "      <td>0</td>\n",
              "      <td>0</td>\n",
              "    </tr>\n",
              "    <tr>\n",
              "      <th>1335</th>\n",
              "      <td>18</td>\n",
              "      <td>36.850</td>\n",
              "      <td>0</td>\n",
              "      <td>1629.83350</td>\n",
              "      <td>1</td>\n",
              "      <td>0</td>\n",
              "      <td>1</td>\n",
              "      <td>0</td>\n",
              "      <td>0</td>\n",
              "      <td>0</td>\n",
              "      <td>1</td>\n",
              "      <td>0</td>\n",
              "    </tr>\n",
              "    <tr>\n",
              "      <th>1336</th>\n",
              "      <td>21</td>\n",
              "      <td>25.800</td>\n",
              "      <td>0</td>\n",
              "      <td>2007.94500</td>\n",
              "      <td>1</td>\n",
              "      <td>0</td>\n",
              "      <td>1</td>\n",
              "      <td>0</td>\n",
              "      <td>0</td>\n",
              "      <td>0</td>\n",
              "      <td>0</td>\n",
              "      <td>1</td>\n",
              "    </tr>\n",
              "    <tr>\n",
              "      <th>1337</th>\n",
              "      <td>61</td>\n",
              "      <td>29.070</td>\n",
              "      <td>0</td>\n",
              "      <td>29141.36030</td>\n",
              "      <td>1</td>\n",
              "      <td>0</td>\n",
              "      <td>0</td>\n",
              "      <td>1</td>\n",
              "      <td>0</td>\n",
              "      <td>1</td>\n",
              "      <td>0</td>\n",
              "      <td>0</td>\n",
              "    </tr>\n",
              "  </tbody>\n",
              "</table>\n",
              "<p>1338 rows × 12 columns</p>\n",
              "</div>"
            ],
            "text/plain": [
              "      age     bmi  ...  region_southeast  region_southwest\n",
              "0      19  27.900  ...                 0                 1\n",
              "1      18  33.770  ...                 1                 0\n",
              "2      28  33.000  ...                 1                 0\n",
              "3      33  22.705  ...                 0                 0\n",
              "4      32  28.880  ...                 0                 0\n",
              "...   ...     ...  ...               ...               ...\n",
              "1333   50  30.970  ...                 0                 0\n",
              "1334   18  31.920  ...                 0                 0\n",
              "1335   18  36.850  ...                 1                 0\n",
              "1336   21  25.800  ...                 0                 1\n",
              "1337   61  29.070  ...                 0                 0\n",
              "\n",
              "[1338 rows x 12 columns]"
            ]
          },
          "metadata": {
            "tags": []
          },
          "execution_count": 6
        }
      ]
    },
    {
      "cell_type": "code",
      "metadata": {
        "id": "foTws2gi8h5A"
      },
      "source": [
        "# Train_test_Split\n",
        "from sklearn.model_selection import train_test_split\n",
        "\n",
        "X = insurance_one_hot.drop(\"charges\", axis = 1)\n",
        "y = insurance_one_hot.charges\n",
        "\n",
        "X_train, X_test, y_train, y_test = train_test_split(X, y, test_size=0.2, random_state=42)   "
      ],
      "execution_count": 7,
      "outputs": []
    },
    {
      "cell_type": "code",
      "metadata": {
        "colab": {
          "base_uri": "https://localhost:8080/"
        },
        "id": "c_8Qua-w_HjX",
        "outputId": "cc4da879-2f1c-4188-dcf5-00c26b3c5307"
      },
      "source": [
        "tf.random.set_seed(42)\n",
        "\n",
        "model1 = tf.keras.Sequential([\n",
        "    tf.keras.layers.Dense(150),\n",
        "    tf.keras.layers.Dense(200),\n",
        "    tf.keras.layers.Dense(150),\n",
        "    tf.keras.layers.Dense(200),\n",
        "    tf.keras.layers.Dense(150),\n",
        "    tf.keras.layers.Dense(100),\n",
        "    tf.keras.layers.Dense(50),\n",
        "    tf.keras.layers.Dense(25),\n",
        "    tf.keras.layers.Dense(5),\n",
        "    tf.keras.layers.Dense(1)\n",
        "])\n",
        "\n",
        "model1.compile(loss=tf.keras.losses.mae,\n",
        "               optimizer=tf.keras.optimizers.Adam(\n",
        "                   learning_rate=0.01\n",
        "               ),\n",
        "               metrics = [\n",
        "                    tf.keras.metrics.mean_absolute_error,\n",
        "                    tf.keras.metrics.mean_squared_error,\n",
        "                    tf.keras.metrics.hinge])\n",
        "\n",
        "logdir = os.path.join(\"logs\", datetime.datetime.now().strftime(\"%Y%m%d-%H%M%S\"))\n",
        "tensorboard_callback = tf.keras.callbacks.TensorBoard(logdir, histogram_freq=1)\n",
        "\n",
        "model1.fit(X_train, y_train, epochs = 100, callbacks=[tensorboard_callback])"
      ],
      "execution_count": 11,
      "outputs": [
        {
          "output_type": "stream",
          "text": [
            "Epoch 1/100\n",
            "34/34 [==============================] - 2s 14ms/step - loss: 11128.2366 - mean_absolute_error: 11128.2366 - mean_squared_error: 250135308.3429 - hinge: 0.0000e+00\n",
            "Epoch 2/100\n",
            "34/34 [==============================] - 0s 3ms/step - loss: 6562.5935 - mean_absolute_error: 6562.5935 - mean_squared_error: 150899708.3429 - hinge: 523.7532\n",
            "Epoch 3/100\n",
            "34/34 [==============================] - 0s 3ms/step - loss: 5938.7454 - mean_absolute_error: 5938.7454 - mean_squared_error: 105950562.5143 - hinge: 14372.8359\n",
            "Epoch 4/100\n",
            "34/34 [==============================] - 0s 3ms/step - loss: 5633.1252 - mean_absolute_error: 5633.1252 - mean_squared_error: 71423382.1714 - hinge: 8856.0124\n",
            "Epoch 5/100\n",
            "34/34 [==============================] - 0s 3ms/step - loss: 4490.6830 - mean_absolute_error: 4490.6830 - mean_squared_error: 52405692.3429 - hinge: 58765.2868\n",
            "Epoch 6/100\n",
            "34/34 [==============================] - 0s 3ms/step - loss: 4147.6570 - mean_absolute_error: 4147.6570 - mean_squared_error: 55570719.6571 - hinge: 14803.1117\n",
            "Epoch 7/100\n",
            "34/34 [==============================] - 0s 3ms/step - loss: 3931.7219 - mean_absolute_error: 3931.7219 - mean_squared_error: 45111438.7429 - hinge: 6309.3726\n",
            "Epoch 8/100\n",
            "34/34 [==============================] - 0s 3ms/step - loss: 5101.2256 - mean_absolute_error: 5101.2256 - mean_squared_error: 65574566.6286 - hinge: 90916.3387\n",
            "Epoch 9/100\n",
            "34/34 [==============================] - 0s 3ms/step - loss: 4231.7692 - mean_absolute_error: 4231.7692 - mean_squared_error: 54025216.6857 - hinge: 1226.1532\n",
            "Epoch 10/100\n",
            "34/34 [==============================] - 0s 3ms/step - loss: 4059.8865 - mean_absolute_error: 4059.8865 - mean_squared_error: 50137242.9714 - hinge: 6481.6086\n",
            "Epoch 11/100\n",
            "34/34 [==============================] - 0s 3ms/step - loss: 4143.5050 - mean_absolute_error: 4143.5050 - mean_squared_error: 54849963.2000 - hinge: 481.5752\n",
            "Epoch 12/100\n",
            "34/34 [==============================] - 0s 3ms/step - loss: 4453.2497 - mean_absolute_error: 4453.2497 - mean_squared_error: 48736989.4857 - hinge: 4675.5779\n",
            "Epoch 13/100\n",
            "34/34 [==============================] - 0s 3ms/step - loss: 4678.8789 - mean_absolute_error: 4678.8789 - mean_squared_error: 58865968.6857 - hinge: 739.5642\n",
            "Epoch 14/100\n",
            "34/34 [==============================] - 0s 3ms/step - loss: 3952.0345 - mean_absolute_error: 3952.0345 - mean_squared_error: 44319325.2571 - hinge: 10278.3484\n",
            "Epoch 15/100\n",
            "34/34 [==============================] - 0s 3ms/step - loss: 4488.9752 - mean_absolute_error: 4488.9752 - mean_squared_error: 48769740.9143 - hinge: 8475.6943\n",
            "Epoch 16/100\n",
            "34/34 [==============================] - 0s 3ms/step - loss: 4204.9733 - mean_absolute_error: 4204.9733 - mean_squared_error: 55268707.3143 - hinge: 2939.7480\n",
            "Epoch 17/100\n",
            "34/34 [==============================] - 0s 3ms/step - loss: 4074.8853 - mean_absolute_error: 4074.8853 - mean_squared_error: 47144599.8857 - hinge: 3441.6207\n",
            "Epoch 18/100\n",
            "34/34 [==============================] - 0s 3ms/step - loss: 4084.5689 - mean_absolute_error: 4084.5689 - mean_squared_error: 44282571.3143 - hinge: 1729.9208\n",
            "Epoch 19/100\n",
            "34/34 [==============================] - 0s 3ms/step - loss: 4093.4100 - mean_absolute_error: 4093.4100 - mean_squared_error: 46514027.4286 - hinge: 588.8955\n",
            "Epoch 20/100\n",
            "34/34 [==============================] - 0s 3ms/step - loss: 4089.0694 - mean_absolute_error: 4089.0694 - mean_squared_error: 45888756.2286 - hinge: 1155.6281\n",
            "Epoch 21/100\n",
            "34/34 [==============================] - 0s 3ms/step - loss: 4104.9104 - mean_absolute_error: 4104.9104 - mean_squared_error: 46497683.4286 - hinge: 4985.8348\n",
            "Epoch 22/100\n",
            "34/34 [==============================] - 0s 3ms/step - loss: 3650.1812 - mean_absolute_error: 3650.1812 - mean_squared_error: 42093286.8571 - hinge: 8732.0124\n",
            "Epoch 23/100\n",
            "34/34 [==============================] - 0s 3ms/step - loss: 3929.9993 - mean_absolute_error: 3929.9993 - mean_squared_error: 48916128.6857 - hinge: 5543.0652\n",
            "Epoch 24/100\n",
            "34/34 [==============================] - 0s 3ms/step - loss: 3789.2273 - mean_absolute_error: 3789.2273 - mean_squared_error: 47009055.6000 - hinge: 101.2128\n",
            "Epoch 25/100\n",
            "34/34 [==============================] - 0s 5ms/step - loss: 4148.4756 - mean_absolute_error: 4148.4756 - mean_squared_error: 49449013.4857 - hinge: 821.5972\n",
            "Epoch 26/100\n",
            "34/34 [==============================] - 0s 3ms/step - loss: 3829.9658 - mean_absolute_error: 3829.9658 - mean_squared_error: 41746160.6857 - hinge: 2388.7046\n",
            "Epoch 27/100\n",
            "34/34 [==============================] - 0s 3ms/step - loss: 4541.1614 - mean_absolute_error: 4541.1614 - mean_squared_error: 51613102.8571 - hinge: 1475.2320\n",
            "Epoch 28/100\n",
            "34/34 [==============================] - 0s 3ms/step - loss: 4408.0180 - mean_absolute_error: 4408.0180 - mean_squared_error: 49864756.9143 - hinge: 229.1526\n",
            "Epoch 29/100\n",
            "34/34 [==============================] - 0s 3ms/step - loss: 3871.3135 - mean_absolute_error: 3871.3135 - mean_squared_error: 43454207.8857 - hinge: 253.0885\n",
            "Epoch 30/100\n",
            "34/34 [==============================] - 0s 3ms/step - loss: 4569.5169 - mean_absolute_error: 4569.5169 - mean_squared_error: 53363120.4571 - hinge: 4976.3397\n",
            "Epoch 31/100\n",
            "34/34 [==============================] - 0s 3ms/step - loss: 4141.6334 - mean_absolute_error: 4141.6334 - mean_squared_error: 48797073.9429 - hinge: 2197.0843\n",
            "Epoch 32/100\n",
            "34/34 [==============================] - 0s 3ms/step - loss: 3927.4455 - mean_absolute_error: 3927.4455 - mean_squared_error: 48967363.8286 - hinge: 330.1384\n",
            "Epoch 33/100\n",
            "34/34 [==============================] - 0s 3ms/step - loss: 4247.6417 - mean_absolute_error: 4247.6417 - mean_squared_error: 49858429.4857 - hinge: 3594.2331\n",
            "Epoch 34/100\n",
            "34/34 [==============================] - 0s 3ms/step - loss: 3892.1727 - mean_absolute_error: 3892.1727 - mean_squared_error: 43509960.4571 - hinge: 0.0000e+00\n",
            "Epoch 35/100\n",
            "34/34 [==============================] - 0s 3ms/step - loss: 3901.7144 - mean_absolute_error: 3901.7144 - mean_squared_error: 44287735.8286 - hinge: 3378.5001\n",
            "Epoch 36/100\n",
            "34/34 [==============================] - 0s 3ms/step - loss: 3957.2879 - mean_absolute_error: 3957.2879 - mean_squared_error: 50156590.9714 - hinge: 32.6712\n",
            "Epoch 37/100\n",
            "34/34 [==============================] - 0s 3ms/step - loss: 3944.7967 - mean_absolute_error: 3944.7967 - mean_squared_error: 47400208.5714 - hinge: 1008.0825\n",
            "Epoch 38/100\n",
            "34/34 [==============================] - 0s 3ms/step - loss: 4192.1815 - mean_absolute_error: 4192.1815 - mean_squared_error: 46994949.6000 - hinge: 0.0000e+00\n",
            "Epoch 39/100\n",
            "34/34 [==============================] - 0s 3ms/step - loss: 4186.1804 - mean_absolute_error: 4186.1804 - mean_squared_error: 48921188.0000 - hinge: 940.9861\n",
            "Epoch 40/100\n",
            "34/34 [==============================] - 0s 3ms/step - loss: 4111.4015 - mean_absolute_error: 4111.4015 - mean_squared_error: 51577447.2000 - hinge: 121.3809\n",
            "Epoch 41/100\n",
            "34/34 [==============================] - 0s 3ms/step - loss: 3514.7326 - mean_absolute_error: 3514.7326 - mean_squared_error: 40238316.8571 - hinge: 1981.2223\n",
            "Epoch 42/100\n",
            "34/34 [==============================] - 0s 3ms/step - loss: 4231.3494 - mean_absolute_error: 4231.3494 - mean_squared_error: 47810971.7714 - hinge: 1.0394\n",
            "Epoch 43/100\n",
            "34/34 [==============================] - 0s 3ms/step - loss: 3818.3143 - mean_absolute_error: 3818.3143 - mean_squared_error: 46249467.3143 - hinge: 478.5758\n",
            "Epoch 44/100\n",
            "34/34 [==============================] - 0s 3ms/step - loss: 3554.3853 - mean_absolute_error: 3554.3853 - mean_squared_error: 40604055.2000 - hinge: 58.3014\n",
            "Epoch 45/100\n",
            "34/34 [==============================] - 0s 3ms/step - loss: 3662.0496 - mean_absolute_error: 3662.0496 - mean_squared_error: 41878472.8000 - hinge: 450.4228\n",
            "Epoch 46/100\n",
            "34/34 [==============================] - 0s 3ms/step - loss: 3660.0704 - mean_absolute_error: 3660.0704 - mean_squared_error: 42050279.4286 - hinge: 0.0000e+00\n",
            "Epoch 47/100\n",
            "34/34 [==============================] - 0s 3ms/step - loss: 4039.2659 - mean_absolute_error: 4039.2659 - mean_squared_error: 47869578.6286 - hinge: 1630.1257\n",
            "Epoch 48/100\n",
            "34/34 [==============================] - 0s 3ms/step - loss: 3681.6424 - mean_absolute_error: 3681.6424 - mean_squared_error: 41799133.1429 - hinge: 0.0000e+00\n",
            "Epoch 49/100\n",
            "34/34 [==============================] - 0s 3ms/step - loss: 4443.7008 - mean_absolute_error: 4443.7008 - mean_squared_error: 51919684.5714 - hinge: 141.7608\n",
            "Epoch 50/100\n",
            "34/34 [==============================] - 0s 3ms/step - loss: 4155.1433 - mean_absolute_error: 4155.1433 - mean_squared_error: 46981737.2571 - hinge: 795.5482\n",
            "Epoch 51/100\n",
            "34/34 [==============================] - 0s 3ms/step - loss: 3824.6428 - mean_absolute_error: 3824.6428 - mean_squared_error: 43352403.6571 - hinge: 54.5127\n",
            "Epoch 52/100\n",
            "34/34 [==============================] - 0s 3ms/step - loss: 3786.6310 - mean_absolute_error: 3786.6310 - mean_squared_error: 42611762.1714 - hinge: 94.9848\n",
            "Epoch 53/100\n",
            "34/34 [==============================] - 0s 3ms/step - loss: 3520.2100 - mean_absolute_error: 3520.2100 - mean_squared_error: 41960707.3143 - hinge: 0.0000e+00\n",
            "Epoch 54/100\n",
            "34/34 [==============================] - 0s 3ms/step - loss: 3726.7288 - mean_absolute_error: 3726.7288 - mean_squared_error: 48285033.8571 - hinge: 2815.0683\n",
            "Epoch 55/100\n",
            "34/34 [==============================] - 0s 3ms/step - loss: 3800.0944 - mean_absolute_error: 3800.0944 - mean_squared_error: 44406139.4286 - hinge: 59.5768\n",
            "Epoch 56/100\n",
            "34/34 [==============================] - 0s 3ms/step - loss: 3981.7815 - mean_absolute_error: 3981.7815 - mean_squared_error: 44545392.5143 - hinge: 41.0105\n",
            "Epoch 57/100\n",
            "34/34 [==============================] - 0s 3ms/step - loss: 4051.0808 - mean_absolute_error: 4051.0808 - mean_squared_error: 50660816.6857 - hinge: 2451.4069\n",
            "Epoch 58/100\n",
            "34/34 [==============================] - 0s 3ms/step - loss: 3868.3724 - mean_absolute_error: 3868.3724 - mean_squared_error: 46879803.4286 - hinge: 28.3554\n",
            "Epoch 59/100\n",
            "34/34 [==============================] - 0s 3ms/step - loss: 3400.2899 - mean_absolute_error: 3400.2899 - mean_squared_error: 38838750.9143 - hinge: 2675.6394\n",
            "Epoch 60/100\n",
            "34/34 [==============================] - 0s 3ms/step - loss: 3851.5787 - mean_absolute_error: 3851.5787 - mean_squared_error: 47720407.6571 - hinge: 0.0000e+00\n",
            "Epoch 61/100\n",
            "34/34 [==============================] - 0s 3ms/step - loss: 3839.6749 - mean_absolute_error: 3839.6749 - mean_squared_error: 45488046.2857 - hinge: 873.5719\n",
            "Epoch 62/100\n",
            "34/34 [==============================] - 0s 3ms/step - loss: 4356.0148 - mean_absolute_error: 4356.0148 - mean_squared_error: 50501753.7143 - hinge: 1314.0125\n",
            "Epoch 63/100\n",
            "34/34 [==============================] - 0s 3ms/step - loss: 3748.7181 - mean_absolute_error: 3748.7181 - mean_squared_error: 46099997.1429 - hinge: 2246.3101\n",
            "Epoch 64/100\n",
            "34/34 [==============================] - 0s 3ms/step - loss: 3751.8214 - mean_absolute_error: 3751.8214 - mean_squared_error: 45369250.8571 - hinge: 283.4045\n",
            "Epoch 65/100\n",
            "34/34 [==============================] - 0s 3ms/step - loss: 3561.3029 - mean_absolute_error: 3561.3029 - mean_squared_error: 44759117.0286 - hinge: 51.2639\n",
            "Epoch 66/100\n",
            "34/34 [==============================] - 0s 4ms/step - loss: 3707.7059 - mean_absolute_error: 3707.7059 - mean_squared_error: 42188682.4000 - hinge: 0.0000e+00\n",
            "Epoch 67/100\n",
            "34/34 [==============================] - 0s 4ms/step - loss: 4050.7114 - mean_absolute_error: 4050.7114 - mean_squared_error: 47574030.8571 - hinge: 8.3721\n",
            "Epoch 68/100\n",
            "34/34 [==============================] - 0s 4ms/step - loss: 4007.9038 - mean_absolute_error: 4007.9038 - mean_squared_error: 47473305.3714 - hinge: 0.0000e+00\n",
            "Epoch 69/100\n",
            "34/34 [==============================] - 0s 3ms/step - loss: 3705.2833 - mean_absolute_error: 3705.2833 - mean_squared_error: 42483202.9714 - hinge: 1201.2299\n",
            "Epoch 70/100\n",
            "34/34 [==============================] - 0s 3ms/step - loss: 3802.7267 - mean_absolute_error: 3802.7267 - mean_squared_error: 43084694.0000 - hinge: 0.0000e+00\n",
            "Epoch 71/100\n",
            "34/34 [==============================] - 0s 3ms/step - loss: 3730.1770 - mean_absolute_error: 3730.1770 - mean_squared_error: 42665685.4857 - hinge: 2835.3672\n",
            "Epoch 72/100\n",
            "34/34 [==============================] - 0s 3ms/step - loss: 3717.9143 - mean_absolute_error: 3717.9143 - mean_squared_error: 40908068.7429 - hinge: 413.7586\n",
            "Epoch 73/100\n",
            "34/34 [==============================] - 0s 3ms/step - loss: 3994.5662 - mean_absolute_error: 3994.5662 - mean_squared_error: 51023473.8286 - hinge: 3812.7373\n",
            "Epoch 74/100\n",
            "34/34 [==============================] - 0s 3ms/step - loss: 4126.4066 - mean_absolute_error: 4126.4066 - mean_squared_error: 46841930.7429 - hinge: 0.0000e+00\n",
            "Epoch 75/100\n",
            "34/34 [==============================] - 0s 3ms/step - loss: 3782.7106 - mean_absolute_error: 3782.7106 - mean_squared_error: 46494211.3143 - hinge: 299.5388\n",
            "Epoch 76/100\n",
            "34/34 [==============================] - 0s 3ms/step - loss: 3764.8752 - mean_absolute_error: 3764.8752 - mean_squared_error: 43168325.6000 - hinge: 0.0000e+00\n",
            "Epoch 77/100\n",
            "34/34 [==============================] - 0s 3ms/step - loss: 4257.8510 - mean_absolute_error: 4257.8510 - mean_squared_error: 45705572.3429 - hinge: 273.6018\n",
            "Epoch 78/100\n",
            "34/34 [==============================] - 0s 3ms/step - loss: 4377.3548 - mean_absolute_error: 4377.3548 - mean_squared_error: 52987763.0857 - hinge: 625.7702\n",
            "Epoch 79/100\n",
            "34/34 [==============================] - 0s 3ms/step - loss: 4220.7876 - mean_absolute_error: 4220.7876 - mean_squared_error: 47284415.3143 - hinge: 30108.2957\n",
            "Epoch 80/100\n",
            "34/34 [==============================] - 0s 3ms/step - loss: 3640.5985 - mean_absolute_error: 3640.5985 - mean_squared_error: 41662588.0000 - hinge: 0.0000e+00\n",
            "Epoch 81/100\n",
            "34/34 [==============================] - 0s 3ms/step - loss: 3660.7433 - mean_absolute_error: 3660.7433 - mean_squared_error: 45728012.5714 - hinge: 4213.5993\n",
            "Epoch 82/100\n",
            "34/34 [==============================] - 0s 3ms/step - loss: 4278.3040 - mean_absolute_error: 4278.3040 - mean_squared_error: 50725464.1143 - hinge: 1892.9653\n",
            "Epoch 83/100\n",
            "34/34 [==============================] - 0s 3ms/step - loss: 3860.8406 - mean_absolute_error: 3860.8406 - mean_squared_error: 47601732.3429 - hinge: 67.7961\n",
            "Epoch 84/100\n",
            "34/34 [==============================] - 0s 3ms/step - loss: 3765.4870 - mean_absolute_error: 3765.4870 - mean_squared_error: 37667577.4286 - hinge: 0.0000e+00\n",
            "Epoch 85/100\n",
            "34/34 [==============================] - 0s 3ms/step - loss: 3340.6694 - mean_absolute_error: 3340.6694 - mean_squared_error: 36156847.4286 - hinge: 161.7897\n",
            "Epoch 86/100\n",
            "34/34 [==============================] - 0s 3ms/step - loss: 3808.4123 - mean_absolute_error: 3808.4123 - mean_squared_error: 45457740.3429 - hinge: 1087.4315\n",
            "Epoch 87/100\n",
            "34/34 [==============================] - 0s 3ms/step - loss: 3893.6437 - mean_absolute_error: 3893.6437 - mean_squared_error: 46199463.0286 - hinge: 2813.2602\n",
            "Epoch 88/100\n",
            "34/34 [==============================] - 0s 3ms/step - loss: 3667.3173 - mean_absolute_error: 3667.3173 - mean_squared_error: 44035539.8857 - hinge: 144.3766\n",
            "Epoch 89/100\n",
            "34/34 [==============================] - 0s 3ms/step - loss: 3433.4275 - mean_absolute_error: 3433.4275 - mean_squared_error: 42906267.8857 - hinge: 970.9874\n",
            "Epoch 90/100\n",
            "34/34 [==============================] - 0s 3ms/step - loss: 3827.9910 - mean_absolute_error: 3827.9910 - mean_squared_error: 43371088.3429 - hinge: 76.9053\n",
            "Epoch 91/100\n",
            "34/34 [==============================] - 0s 3ms/step - loss: 3757.1674 - mean_absolute_error: 3757.1674 - mean_squared_error: 43949571.2571 - hinge: 0.0000e+00\n",
            "Epoch 92/100\n",
            "34/34 [==============================] - 0s 3ms/step - loss: 3904.9944 - mean_absolute_error: 3904.9944 - mean_squared_error: 45237244.1143 - hinge: 0.0000e+00\n",
            "Epoch 93/100\n",
            "34/34 [==============================] - 0s 3ms/step - loss: 3866.3466 - mean_absolute_error: 3866.3466 - mean_squared_error: 41649474.1714 - hinge: 75.9835\n",
            "Epoch 94/100\n",
            "34/34 [==============================] - 0s 3ms/step - loss: 3746.1879 - mean_absolute_error: 3746.1879 - mean_squared_error: 40725642.0571 - hinge: 114.2682\n",
            "Epoch 95/100\n",
            "34/34 [==============================] - 0s 3ms/step - loss: 3499.7010 - mean_absolute_error: 3499.7010 - mean_squared_error: 41500274.5143 - hinge: 476.3098\n",
            "Epoch 96/100\n",
            "34/34 [==============================] - 0s 3ms/step - loss: 3830.8260 - mean_absolute_error: 3830.8260 - mean_squared_error: 42398839.4286 - hinge: 0.0000e+00\n",
            "Epoch 97/100\n",
            "34/34 [==============================] - 0s 3ms/step - loss: 3674.9430 - mean_absolute_error: 3674.9430 - mean_squared_error: 43674833.9429 - hinge: 0.0000e+00\n",
            "Epoch 98/100\n",
            "34/34 [==============================] - 0s 3ms/step - loss: 3771.1714 - mean_absolute_error: 3771.1714 - mean_squared_error: 41776311.6000 - hinge: 5.4260\n",
            "Epoch 99/100\n",
            "34/34 [==============================] - 0s 3ms/step - loss: 3343.6027 - mean_absolute_error: 3343.6027 - mean_squared_error: 38542970.0000 - hinge: 834.7718\n",
            "Epoch 100/100\n",
            "34/34 [==============================] - 0s 3ms/step - loss: 3427.8174 - mean_absolute_error: 3427.8174 - mean_squared_error: 44534986.3429 - hinge: 509.3602\n"
          ],
          "name": "stdout"
        },
        {
          "output_type": "execute_result",
          "data": {
            "text/plain": [
              "<tensorflow.python.keras.callbacks.History at 0x7f1030089590>"
            ]
          },
          "metadata": {
            "tags": []
          },
          "execution_count": 11
        }
      ]
    },
    {
      "cell_type": "code",
      "metadata": {
        "colab": {
          "base_uri": "https://localhost:8080/"
        },
        "id": "rGkGqpml_oFx",
        "outputId": "cc6ae23d-258b-4657-eea7-69d2f964ecd6"
      },
      "source": [
        "model1.evaluate(X_test, y_test)"
      ],
      "execution_count": 12,
      "outputs": [
        {
          "output_type": "stream",
          "text": [
            "9/9 [==============================] - 0s 3ms/step - loss: 3559.9604 - mean_absolute_error: 3559.9604 - mean_squared_error: 37792416.0000 - hinge: 0.0000e+00\n"
          ],
          "name": "stdout"
        },
        {
          "output_type": "execute_result",
          "data": {
            "text/plain": [
              "[3559.96044921875, 3559.96044921875, 37792416.0, 0.0]"
            ]
          },
          "metadata": {
            "tags": []
          },
          "execution_count": 12
        }
      ]
    },
    {
      "cell_type": "code",
      "metadata": {
        "colab": {
          "base_uri": "https://localhost:8080/",
          "height": 35
        },
        "id": "e8Vq2VNLBu1K",
        "outputId": "9192662c-ebb8-4afb-a463-0962ad565f3b"
      },
      "source": [
        "%tensorboard --logdir logs"
      ],
      "execution_count": 20,
      "outputs": [
        {
          "output_type": "display_data",
          "data": {
            "text/plain": [
              "Reusing TensorBoard on port 6006 (pid 100), started 0:03:35 ago. (Use '!kill 100' to kill it.)"
            ]
          },
          "metadata": {
            "tags": []
          }
        },
        {
          "output_type": "display_data",
          "data": {
            "application/javascript": [
              "\n",
              "        (async () => {\n",
              "            const url = new URL(await google.colab.kernel.proxyPort(6006, {'cache': true}));\n",
              "            url.searchParams.set('tensorboardColab', 'true');\n",
              "            const iframe = document.createElement('iframe');\n",
              "            iframe.src = url;\n",
              "            iframe.setAttribute('width', '100%');\n",
              "            iframe.setAttribute('height', '800');\n",
              "            iframe.setAttribute('frameborder', 0);\n",
              "            document.body.appendChild(iframe);\n",
              "        })();\n",
              "    "
            ],
            "text/plain": [
              "<IPython.core.display.Javascript object>"
            ]
          },
          "metadata": {
            "tags": []
          }
        }
      ]
    },
    {
      "cell_type": "code",
      "metadata": {
        "colab": {
          "base_uri": "https://localhost:8080/"
        },
        "id": "RK9Y_6dFD5kN",
        "outputId": "3e746294-ff20-48e2-dad0-89cd516111e1"
      },
      "source": [
        "from tensorboard import notebook\n",
        "notebook.list() # View open TensorBoard instances"
      ],
      "execution_count": 28,
      "outputs": [
        {
          "output_type": "stream",
          "text": [
            "Known TensorBoard instances:\n",
            "  - port 6006: logdir logs (started 0:08:06 ago; pid 100)\n"
          ],
          "name": "stdout"
        }
      ]
    },
    {
      "cell_type": "code",
      "metadata": {
        "colab": {
          "base_uri": "https://localhost:8080/",
          "height": 35
        },
        "id": "btlFnQTaD9A0",
        "outputId": "0b08f84b-be83-47d6-e576-7b251848aaec"
      },
      "source": [
        "notebook.display(port=6006, height=1000) "
      ],
      "execution_count": 29,
      "outputs": [
        {
          "output_type": "stream",
          "text": [
            "Selecting TensorBoard with logdir logs (started 0:08:08 ago; port 6006, pid 100).\n"
          ],
          "name": "stdout"
        },
        {
          "output_type": "display_data",
          "data": {
            "application/javascript": [
              "\n",
              "        (async () => {\n",
              "            const url = new URL(await google.colab.kernel.proxyPort(6006, {'cache': true}));\n",
              "            url.searchParams.set('tensorboardColab', 'true');\n",
              "            const iframe = document.createElement('iframe');\n",
              "            iframe.src = url;\n",
              "            iframe.setAttribute('width', '100%');\n",
              "            iframe.setAttribute('height', '1000');\n",
              "            iframe.setAttribute('frameborder', 0);\n",
              "            document.body.appendChild(iframe);\n",
              "        })();\n",
              "    "
            ],
            "text/plain": [
              "<IPython.core.display.Javascript object>"
            ]
          },
          "metadata": {
            "tags": []
          }
        }
      ]
    }
  ]
}